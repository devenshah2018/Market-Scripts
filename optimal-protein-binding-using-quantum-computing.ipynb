{
 "cells": [
  {
   "cell_type": "markdown",
   "id": "b8575dd2",
   "metadata": {
    "_cell_guid": "f4765520-e738-45ee-b71b-174cb629bb0c",
    "_uuid": "c3d4f5e6-eb3a-4c20-848b-435f54a24d3f",
    "papermill": {
     "duration": 0.009485,
     "end_time": "2024-09-04T03:16:04.910442",
     "exception": false,
     "start_time": "2024-09-04T03:16:04.900957",
     "status": "completed"
    },
    "tags": []
   },
   "source": [
    "# Grover's Algorithm for Protein Molecule Selection\n",
    "\n",
    "This project leverages a simulated quantum computing circuit to apply Grover's algorithm, aiming to demonstrate the ability to identify the protein molecule with the highest binding affinity. This method has the potential to enhance the development of more effective medications for various diseases.\n",
    "\n",
    "# Theory\n",
    "\n",
    "* **Qubits**: The fundamental unit of quantum information, analogous to bits in classical computers. Unlike bits that are restricted to either 0 or 1, qubits can exist in a **superposition** of both states simultaneously.\n",
    "\n",
    "* **State Vector**: Describes the state of a qubit using a complex number formula:\n",
    "\n",
    "$$ \\hat{v} = \\hat{0}\\alpha + \\hat{1}\\beta$$\n",
    "\n",
    "* $ \\alpha $ and $ \\beta $ are complex numbers representing **probability amplitudes**, indicating the likelihood of the qubit being in the $ \\hat{0} $ or $ \\hat{1} $ state.\n",
    "\n",
    "* **Oracles**: conceptual tool in quantum computing that identifies specific solutions without directly knowing them. It operates by analyzing the nature of a given state.\n",
    "\n",
    "    * If a state $ \\hat{v} $ satisfies the oracle's condition, the phase of $ \\hat{v} $ is flipped.\n",
    "    \n",
    "    * If a state $ \\hat{y} $ doesn't satisfy the oracle's condition, its phase remains unchanged.\n",
    "\n",
    "**Grover's algorithm** is a quantum search algorithm designed to find the correct solution from a set of possibilities. The steps are as follows:\n",
    "\n",
    "1. Assign a qubit to each possibility in the set.\n",
    "2. Initialize all qubits in a superposition of all possible states.\n",
    "3. Apply the oracle to flip the phase of the correct solution.\n",
    "4. Use a diffusion operator to amplify the amplitude of the flipped solution, making it more prominent.\n",
    "5. Repeat Steps 3 and 4 a specific number of times.\n",
    "6. Measure the final state, which will reveal the solution with high probability."
   ]
  },
  {
   "cell_type": "markdown",
   "id": "4d8e88c4",
   "metadata": {
    "_cell_guid": "08cd80c7-9d25-46b3-a1bf-132598571852",
    "_uuid": "1b336399-5b97-4b12-a5ee-fbef0f2ab686",
    "papermill": {
     "duration": 0.006512,
     "end_time": "2024-09-04T03:16:04.925119",
     "exception": false,
     "start_time": "2024-09-04T03:16:04.918607",
     "status": "completed"
    },
    "tags": []
   },
   "source": [
    "# Prerequisites\n",
    "\n",
    "To get started, the Qiskit packages provided by IBM are installed, which allow for the simulation of quantum computing environments. They are then imported into the environment."
   ]
  },
  {
   "cell_type": "code",
   "execution_count": 1,
   "id": "bc63c0d2",
   "metadata": {
    "_cell_guid": "7f3b8f39-07ee-4565-aff7-401613ef2957",
    "_kg_hide-output": true,
    "_uuid": "e2b259e9-8efa-454d-8a9a-40dd369bc604",
    "collapsed": false,
    "execution": {
     "iopub.execute_input": "2024-09-04T03:16:04.940583Z",
     "iopub.status.busy": "2024-09-04T03:16:04.940114Z",
     "iopub.status.idle": "2024-09-04T03:16:44.490372Z",
     "shell.execute_reply": "2024-09-04T03:16:44.488959Z"
    },
    "jupyter": {
     "outputs_hidden": false
    },
    "papermill": {
     "duration": 39.561406,
     "end_time": "2024-09-04T03:16:44.493348",
     "exception": false,
     "start_time": "2024-09-04T03:16:04.931942",
     "status": "completed"
    },
    "tags": []
   },
   "outputs": [
    {
     "name": "stdout",
     "output_type": "stream",
     "text": [
      "Collecting qiskit\r\n",
      "  Downloading qiskit-1.2.0-cp38-abi3-manylinux_2_17_x86_64.manylinux2014_x86_64.whl.metadata (12 kB)\r\n",
      "Collecting rustworkx>=0.15.0 (from qiskit)\r\n",
      "  Downloading rustworkx-0.15.1-cp38-abi3-manylinux_2_17_x86_64.manylinux2014_x86_64.whl.metadata (9.9 kB)\r\n",
      "Requirement already satisfied: numpy<3,>=1.17 in /opt/conda/lib/python3.10/site-packages (from qiskit) (1.26.4)\r\n",
      "Requirement already satisfied: scipy>=1.5 in /opt/conda/lib/python3.10/site-packages (from qiskit) (1.14.0)\r\n",
      "Requirement already satisfied: sympy>=1.3 in /opt/conda/lib/python3.10/site-packages (from qiskit) (1.12)\r\n",
      "Requirement already satisfied: dill>=0.3 in /opt/conda/lib/python3.10/site-packages (from qiskit) (0.3.8)\r\n",
      "Requirement already satisfied: python-dateutil>=2.8.0 in /opt/conda/lib/python3.10/site-packages (from qiskit) (2.9.0.post0)\r\n",
      "Collecting stevedore>=3.0.0 (from qiskit)\r\n",
      "  Downloading stevedore-5.3.0-py3-none-any.whl.metadata (2.3 kB)\r\n",
      "Requirement already satisfied: typing-extensions in /opt/conda/lib/python3.10/site-packages (from qiskit) (4.12.2)\r\n",
      "Collecting symengine>=0.11 (from qiskit)\r\n",
      "  Downloading symengine-0.11.0-cp310-cp310-manylinux_2_12_x86_64.manylinux2010_x86_64.whl.metadata (1.2 kB)\r\n",
      "Requirement already satisfied: six>=1.5 in /opt/conda/lib/python3.10/site-packages (from python-dateutil>=2.8.0->qiskit) (1.16.0)\r\n",
      "Collecting pbr>=2.0.0 (from stevedore>=3.0.0->qiskit)\r\n",
      "  Downloading pbr-6.1.0-py2.py3-none-any.whl.metadata (3.4 kB)\r\n",
      "Requirement already satisfied: mpmath>=0.19 in /opt/conda/lib/python3.10/site-packages (from sympy>=1.3->qiskit) (1.3.0)\r\n",
      "Downloading qiskit-1.2.0-cp38-abi3-manylinux_2_17_x86_64.manylinux2014_x86_64.whl (4.8 MB)\r\n",
      "\u001b[2K   \u001b[90m━━━━━━━━━━━━━━━━━━━━━━━━━━━━━━━━━━━━━━━━\u001b[0m \u001b[32m4.8/4.8 MB\u001b[0m \u001b[31m45.6 MB/s\u001b[0m eta \u001b[36m0:00:00\u001b[0m\r\n",
      "\u001b[?25hDownloading rustworkx-0.15.1-cp38-abi3-manylinux_2_17_x86_64.manylinux2014_x86_64.whl (2.0 MB)\r\n",
      "\u001b[2K   \u001b[90m━━━━━━━━━━━━━━━━━━━━━━━━━━━━━━━━━━━━━━━━\u001b[0m \u001b[32m2.0/2.0 MB\u001b[0m \u001b[31m49.6 MB/s\u001b[0m eta \u001b[36m0:00:00\u001b[0m\r\n",
      "\u001b[?25hDownloading stevedore-5.3.0-py3-none-any.whl (49 kB)\r\n",
      "\u001b[2K   \u001b[90m━━━━━━━━━━━━━━━━━━━━━━━━━━━━━━━━━━━━━━━━\u001b[0m \u001b[32m49.7/49.7 kB\u001b[0m \u001b[31m2.2 MB/s\u001b[0m eta \u001b[36m0:00:00\u001b[0m\r\n",
      "\u001b[?25hDownloading symengine-0.11.0-cp310-cp310-manylinux_2_12_x86_64.manylinux2010_x86_64.whl (39.4 MB)\r\n",
      "\u001b[2K   \u001b[90m━━━━━━━━━━━━━━━━━━━━━━━━━━━━━━━━━━━━━━━━\u001b[0m \u001b[32m39.4/39.4 MB\u001b[0m \u001b[31m32.0 MB/s\u001b[0m eta \u001b[36m0:00:00\u001b[0m\r\n",
      "\u001b[?25hDownloading pbr-6.1.0-py2.py3-none-any.whl (108 kB)\r\n",
      "\u001b[2K   \u001b[90m━━━━━━━━━━━━━━━━━━━━━━━━━━━━━━━━━━━━━━━━\u001b[0m \u001b[32m108.5/108.5 kB\u001b[0m \u001b[31m4.9 MB/s\u001b[0m eta \u001b[36m0:00:00\u001b[0m\r\n",
      "\u001b[?25hInstalling collected packages: symengine, rustworkx, pbr, stevedore, qiskit\r\n",
      "Successfully installed pbr-6.1.0 qiskit-1.2.0 rustworkx-0.15.1 stevedore-5.3.0 symengine-0.11.0\r\n",
      "Collecting qiskit-aer\r\n",
      "  Downloading qiskit_aer-0.15.0-cp310-cp310-manylinux_2_17_x86_64.manylinux2014_x86_64.whl.metadata (8.0 kB)\r\n",
      "Requirement already satisfied: qiskit>=1.1.0 in /opt/conda/lib/python3.10/site-packages (from qiskit-aer) (1.2.0)\r\n",
      "Requirement already satisfied: numpy>=1.16.3 in /opt/conda/lib/python3.10/site-packages (from qiskit-aer) (1.26.4)\r\n",
      "Requirement already satisfied: scipy>=1.0 in /opt/conda/lib/python3.10/site-packages (from qiskit-aer) (1.14.0)\r\n",
      "Requirement already satisfied: psutil>=5 in /opt/conda/lib/python3.10/site-packages (from qiskit-aer) (5.9.3)\r\n",
      "Requirement already satisfied: rustworkx>=0.15.0 in /opt/conda/lib/python3.10/site-packages (from qiskit>=1.1.0->qiskit-aer) (0.15.1)\r\n",
      "Requirement already satisfied: sympy>=1.3 in /opt/conda/lib/python3.10/site-packages (from qiskit>=1.1.0->qiskit-aer) (1.12)\r\n",
      "Requirement already satisfied: dill>=0.3 in /opt/conda/lib/python3.10/site-packages (from qiskit>=1.1.0->qiskit-aer) (0.3.8)\r\n",
      "Requirement already satisfied: python-dateutil>=2.8.0 in /opt/conda/lib/python3.10/site-packages (from qiskit>=1.1.0->qiskit-aer) (2.9.0.post0)\r\n",
      "Requirement already satisfied: stevedore>=3.0.0 in /opt/conda/lib/python3.10/site-packages (from qiskit>=1.1.0->qiskit-aer) (5.3.0)\r\n",
      "Requirement already satisfied: typing-extensions in /opt/conda/lib/python3.10/site-packages (from qiskit>=1.1.0->qiskit-aer) (4.12.2)\r\n",
      "Requirement already satisfied: symengine>=0.11 in /opt/conda/lib/python3.10/site-packages (from qiskit>=1.1.0->qiskit-aer) (0.11.0)\r\n",
      "Requirement already satisfied: six>=1.5 in /opt/conda/lib/python3.10/site-packages (from python-dateutil>=2.8.0->qiskit>=1.1.0->qiskit-aer) (1.16.0)\r\n",
      "Requirement already satisfied: pbr>=2.0.0 in /opt/conda/lib/python3.10/site-packages (from stevedore>=3.0.0->qiskit>=1.1.0->qiskit-aer) (6.1.0)\r\n",
      "Requirement already satisfied: mpmath>=0.19 in /opt/conda/lib/python3.10/site-packages (from sympy>=1.3->qiskit>=1.1.0->qiskit-aer) (1.3.0)\r\n",
      "Downloading qiskit_aer-0.15.0-cp310-cp310-manylinux_2_17_x86_64.manylinux2014_x86_64.whl (12.3 MB)\r\n",
      "\u001b[2K   \u001b[90m━━━━━━━━━━━━━━━━━━━━━━━━━━━━━━━━━━━━━━━━\u001b[0m \u001b[32m12.3/12.3 MB\u001b[0m \u001b[31m71.8 MB/s\u001b[0m eta \u001b[36m0:00:00\u001b[0m\r\n",
      "\u001b[?25hInstalling collected packages: qiskit-aer\r\n",
      "Successfully installed qiskit-aer-0.15.0\r\n"
     ]
    }
   ],
   "source": [
    "!pip install qiskit\n",
    "!pip install qiskit-aer"
   ]
  },
  {
   "cell_type": "code",
   "execution_count": 2,
   "id": "e29d4b54",
   "metadata": {
    "_cell_guid": "496f1cd4-4a1c-499a-b697-6368c0160c32",
    "_uuid": "272035e1-cdcd-43a7-918c-78ff3408f5d5",
    "collapsed": false,
    "execution": {
     "iopub.execute_input": "2024-09-04T03:16:44.516986Z",
     "iopub.status.busy": "2024-09-04T03:16:44.516526Z",
     "iopub.status.idle": "2024-09-04T03:16:45.559712Z",
     "shell.execute_reply": "2024-09-04T03:16:45.558567Z"
    },
    "jupyter": {
     "outputs_hidden": false
    },
    "papermill": {
     "duration": 1.058534,
     "end_time": "2024-09-04T03:16:45.562640",
     "exception": false,
     "start_time": "2024-09-04T03:16:44.504106",
     "status": "completed"
    },
    "tags": []
   },
   "outputs": [],
   "source": [
    "from qiskit import QuantumCircuit, transpile, assemble\n",
    "import csv\n",
    "import numpy as np\n",
    "import pandas as pd\n",
    "from qiskit_aer import Aer\n",
    "from qiskit.visualization import plot_histogram\n",
    "from qiskit.quantum_info import Statevector"
   ]
  },
  {
   "cell_type": "markdown",
   "id": "88ca749f",
   "metadata": {
    "_cell_guid": "dfa9bd5f-ff17-4a7d-808f-d9b56bed111d",
    "_uuid": "81d6ed61-854c-4963-a534-4a97afb378b4",
    "papermill": {
     "duration": 0.010235,
     "end_time": "2024-09-04T03:16:45.583816",
     "exception": false,
     "start_time": "2024-09-04T03:16:45.573581",
     "status": "completed"
    },
    "tags": []
   },
   "source": [
    "# Import Dataset\n",
    "\n",
    "To concentrate on the core concepts of quantum computing, a simplified dataset was utilized. This dataset comprises 10 molecules, each characterized by its molecular weight, binding affinity, and hydrophobicity. The objective is to employ Grover's algorithm to identify the molecule exhibiting the highest binding affinity."
   ]
  },
  {
   "cell_type": "code",
   "execution_count": 3,
   "id": "e380e335",
   "metadata": {
    "_cell_guid": "02bc3bf7-aae8-4004-a8f8-c0110e8313f7",
    "_uuid": "d3bc5a0c-cb60-4bf9-ac1a-c5569391c862",
    "collapsed": false,
    "execution": {
     "iopub.execute_input": "2024-09-04T03:16:45.607488Z",
     "iopub.status.busy": "2024-09-04T03:16:45.606855Z",
     "iopub.status.idle": "2024-09-04T03:16:45.740961Z",
     "shell.execute_reply": "2024-09-04T03:16:45.739710Z"
    },
    "jupyter": {
     "outputs_hidden": false
    },
    "papermill": {
     "duration": 0.1493,
     "end_time": "2024-09-04T03:16:45.743840",
     "exception": false,
     "start_time": "2024-09-04T03:16:45.594540",
     "status": "completed"
    },
    "tags": []
   },
   "outputs": [
    {
     "data": {
      "text/html": [
       "<div>\n",
       "<style scoped>\n",
       "    .dataframe tbody tr th:only-of-type {\n",
       "        vertical-align: middle;\n",
       "    }\n",
       "\n",
       "    .dataframe tbody tr th {\n",
       "        vertical-align: top;\n",
       "    }\n",
       "\n",
       "    .dataframe thead th {\n",
       "        text-align: right;\n",
       "    }\n",
       "</style>\n",
       "<table border=\"1\" class=\"dataframe\">\n",
       "  <thead>\n",
       "    <tr style=\"text-align: right;\">\n",
       "      <th></th>\n",
       "      <th>Molecule</th>\n",
       "      <th>MolecularWeight</th>\n",
       "      <th>BindingAffinity</th>\n",
       "      <th>Hydrophobicity</th>\n",
       "    </tr>\n",
       "  </thead>\n",
       "  <tbody>\n",
       "    <tr>\n",
       "      <th>0</th>\n",
       "      <td>Molecule1</td>\n",
       "      <td>120.5</td>\n",
       "      <td>7.8</td>\n",
       "      <td>3.2</td>\n",
       "    </tr>\n",
       "    <tr>\n",
       "      <th>1</th>\n",
       "      <td>Molecule2</td>\n",
       "      <td>150.8</td>\n",
       "      <td>8.3</td>\n",
       "      <td>4.1</td>\n",
       "    </tr>\n",
       "    <tr>\n",
       "      <th>2</th>\n",
       "      <td>Molecule3</td>\n",
       "      <td>180.3</td>\n",
       "      <td>9.1</td>\n",
       "      <td>5.6</td>\n",
       "    </tr>\n",
       "    <tr>\n",
       "      <th>3</th>\n",
       "      <td>Molecule4</td>\n",
       "      <td>210.2</td>\n",
       "      <td>6.7</td>\n",
       "      <td>2.8</td>\n",
       "    </tr>\n",
       "    <tr>\n",
       "      <th>4</th>\n",
       "      <td>Molecule5</td>\n",
       "      <td>175.5</td>\n",
       "      <td>9.5</td>\n",
       "      <td>5.0</td>\n",
       "    </tr>\n",
       "    <tr>\n",
       "      <th>5</th>\n",
       "      <td>Molecule6</td>\n",
       "      <td>190.0</td>\n",
       "      <td>8.9</td>\n",
       "      <td>4.7</td>\n",
       "    </tr>\n",
       "    <tr>\n",
       "      <th>6</th>\n",
       "      <td>Molecule7</td>\n",
       "      <td>200.5</td>\n",
       "      <td>7.2</td>\n",
       "      <td>3.5</td>\n",
       "    </tr>\n",
       "    <tr>\n",
       "      <th>7</th>\n",
       "      <td>Molecule8</td>\n",
       "      <td>185.2</td>\n",
       "      <td>9.8</td>\n",
       "      <td>5.4</td>\n",
       "    </tr>\n",
       "    <tr>\n",
       "      <th>8</th>\n",
       "      <td>Molecule9</td>\n",
       "      <td>195.6</td>\n",
       "      <td>7.9</td>\n",
       "      <td>3.9</td>\n",
       "    </tr>\n",
       "    <tr>\n",
       "      <th>9</th>\n",
       "      <td>Molecule10</td>\n",
       "      <td>205.8</td>\n",
       "      <td>6.5</td>\n",
       "      <td>2.6</td>\n",
       "    </tr>\n",
       "  </tbody>\n",
       "</table>\n",
       "</div>"
      ],
      "text/plain": [
       "     Molecule  MolecularWeight  BindingAffinity  Hydrophobicity\n",
       "0   Molecule1            120.5              7.8             3.2\n",
       "1   Molecule2            150.8              8.3             4.1\n",
       "2   Molecule3            180.3              9.1             5.6\n",
       "3   Molecule4            210.2              6.7             2.8\n",
       "4   Molecule5            175.5              9.5             5.0\n",
       "5   Molecule6            190.0              8.9             4.7\n",
       "6   Molecule7            200.5              7.2             3.5\n",
       "7   Molecule8            185.2              9.8             5.4\n",
       "8   Molecule9            195.6              7.9             3.9\n",
       "9  Molecule10            205.8              6.5             2.6"
      ]
     },
     "execution_count": 3,
     "metadata": {},
     "output_type": "execute_result"
    }
   ],
   "source": [
    "df = pd.read_csv('/kaggle/input/protein-molecules-dataset/molecules.csv')\n",
    "df"
   ]
  },
  {
   "cell_type": "markdown",
   "id": "35b8d893",
   "metadata": {
    "_cell_guid": "a84ee304-839e-49fa-a959-7d7b6efe2e56",
    "_uuid": "048589cb-90ca-492a-997c-c141400830d2",
    "papermill": {
     "duration": 0.010671,
     "end_time": "2024-09-04T03:16:45.765590",
     "exception": false,
     "start_time": "2024-09-04T03:16:45.754919",
     "status": "completed"
    },
    "tags": []
   },
   "source": [
    "The following function performs a couple of tasks:\n",
    "* Loads and iterates over each row in the CSV dataset.\n",
    "* The following numerical features are extracted: MolecularWeight, BindingAffinity, and Hydrophobicity.\n",
    "* The numerical features are all normalized on a scale from 0 to 255.\n",
    "* All 3 normalizations are concatenated and converted to an 8-bit binary string.\n",
    "* A tuple containing the binary string and binding affinity are appended to a list."
   ]
  },
  {
   "cell_type": "code",
   "execution_count": 4,
   "id": "2543b14a",
   "metadata": {
    "_cell_guid": "40a2e828-21d9-4ee5-b9c3-e59f0228054b",
    "_uuid": "c5fc1576-1ba2-4704-aaf1-703fd32197cb",
    "collapsed": false,
    "execution": {
     "iopub.execute_input": "2024-09-04T03:16:45.789326Z",
     "iopub.status.busy": "2024-09-04T03:16:45.788864Z",
     "iopub.status.idle": "2024-09-04T03:16:45.798525Z",
     "shell.execute_reply": "2024-09-04T03:16:45.797212Z"
    },
    "jupyter": {
     "outputs_hidden": false
    },
    "papermill": {
     "duration": 0.024688,
     "end_time": "2024-09-04T03:16:45.801197",
     "exception": false,
     "start_time": "2024-09-04T03:16:45.776509",
     "status": "completed"
    },
    "tags": []
   },
   "outputs": [],
   "source": [
    "def load_and_normalize_molecules(filename):\n",
    "    with open(filename, mode='r') as file:\n",
    "        reader = csv.DictReader(file)\n",
    "        molecules = []\n",
    "        for row in reader:\n",
    "            molecular_weight = float(row['MolecularWeight']) / 1000\n",
    "            binding_affinity = float(row['BindingAffinity']) / 10\n",
    "            hydrophobicity = float(row['Hydrophobicity']) / 10\n",
    "            molecular_weight_binary = format(int(molecular_weight * 255), '08b')\n",
    "            binding_affinity_binary = format(int(binding_affinity * 255), '08b')\n",
    "            hydrophobicity_binary = format(int(hydrophobicity * 255), '08b')\n",
    "            binary_string = molecular_weight_binary + binding_affinity_binary + hydrophobicity_binary\n",
    "            molecules.append((binary_string, float(row['BindingAffinity'])))\n",
    "    return molecules"
   ]
  },
  {
   "cell_type": "markdown",
   "id": "1595c2fe",
   "metadata": {
    "_cell_guid": "d85d557c-e1d2-4480-98a2-f2f4dc0a418f",
    "_uuid": "8a21e6f4-6c9c-4cb3-a785-be35ceb957d2",
    "papermill": {
     "duration": 0.010912,
     "end_time": "2024-09-04T03:16:45.823322",
     "exception": false,
     "start_time": "2024-09-04T03:16:45.812410",
     "status": "completed"
    },
    "tags": []
   },
   "source": [
    "# Key Functions\n",
    "The following functions help construct our quantum search algorithm. The first function determines the most optimal molecule in the list. The most optimal molecule is one with the highest binding affinity. The following function converts a binary string to an integer. The final function initializes the circuit by applying the Hadamard gate to impose a superposition to all qubits."
   ]
  },
  {
   "cell_type": "code",
   "execution_count": 5,
   "id": "31ee5e67",
   "metadata": {
    "_cell_guid": "006b8237-d0d4-4b14-96ff-5d58bd7dd46f",
    "_uuid": "ff39c5ff-5809-4f11-b69f-3f9b6c1ca363",
    "collapsed": false,
    "execution": {
     "iopub.execute_input": "2024-09-04T03:16:45.847356Z",
     "iopub.status.busy": "2024-09-04T03:16:45.846902Z",
     "iopub.status.idle": "2024-09-04T03:16:45.854680Z",
     "shell.execute_reply": "2024-09-04T03:16:45.853289Z"
    },
    "jupyter": {
     "outputs_hidden": false
    },
    "papermill": {
     "duration": 0.022967,
     "end_time": "2024-09-04T03:16:45.857380",
     "exception": false,
     "start_time": "2024-09-04T03:16:45.834413",
     "status": "completed"
    },
    "tags": []
   },
   "outputs": [],
   "source": [
    "def find_optimal_molecule(molecules):\n",
    "    return max(molecules, key=lambda x: x[1])[0]\n",
    "\n",
    "def binary_to_integer(binary_string):\n",
    "    return int(binary_string, 2)\n",
    "\n",
    "def initialize_circuit(quantum_circuit, qubits):\n",
    "    quantum_circuit.h(qubits)\n",
    "    return quantum_circuit"
   ]
  },
  {
   "cell_type": "markdown",
   "id": "9cba8dd0",
   "metadata": {
    "_cell_guid": "97745c9e-5163-4f20-81a4-62990f5e3c41",
    "_uuid": "f76ac6a8-51ba-4cba-ba56-2caec179ff4e",
    "papermill": {
     "duration": 0.010671,
     "end_time": "2024-09-04T03:16:45.879255",
     "exception": false,
     "start_time": "2024-09-04T03:16:45.868584",
     "status": "completed"
    },
    "tags": []
   },
   "source": [
    "The following function implements a quantum circuit that effectively amplifies the amplitude of the target state, making it more likely to be measured in subsequent quantum measurements. This oracle is a key component of Grover's algorithm, which can be used to efficiently search for molecules with desired properties within a large dataset.\n",
    "\n",
    "1. Target State Representation:\n",
    "\n",
    "The target_state is converted into a binary string. This binary string represents the desired quantum state that the oracle aims to amplify.\n",
    "\n",
    "2. Qubit Preparation:\n",
    "\n",
    "The function iterates over the binary string and applies the **Pauli-X gate** to qubits corresponding to $ \\hat{0} $ bits. This step effectively prepares the qubits to represent the target state. In essence, it flips the qubits that need to be in the $ \\hat{1} $ state to match the target state.\n",
    "\n",
    "3. Grover Diffusion Operator:\n",
    "\n",
    "The Grover diffusion operator is applied to amplify the amplitude of the target state while reducing the amplitudes of other states. This operator consists of three main steps:\n",
    "* **Hadamard Transformation**: A Hadamard gate is applied to the last qubit, creating a superposition. This step is essential for the subsequent multi-controlled X gate to function correctly.\n",
    "* **Multi-Controlled X Gate**: A multi-controlled X gate is applied to all qubits except the last one, with the last qubit as the target qubit. This gate flips the target qubit if all the control qubits are in the $ \\hat{1} $ state. In this case, the control qubits are the ones that have been prepared to represent the target state.\n",
    "* Hadamard Transformation: Another Hadamard gate is applied to the last qubit. This completes the Grover diffusion operator and amplifies the amplitude of the target state.\n",
    "\n",
    "4. Undoing Preparation:\n",
    "\n",
    "The function applies the Pauli-X gate to qubits corresponding to $ \\hat{0} $ bits in the binary string again. This step undoes the initial qubit preparation, ensuring that the oracle correctly flips the amplitude of the target state without affecting other states."
   ]
  },
  {
   "cell_type": "code",
   "execution_count": 6,
   "id": "f60e6fe7",
   "metadata": {
    "_cell_guid": "f4b4025d-aa81-4340-837c-578a214b2e88",
    "_uuid": "ea50447b-d5df-40a4-8525-44a6fbcdeb53",
    "collapsed": false,
    "execution": {
     "iopub.execute_input": "2024-09-04T03:16:45.903233Z",
     "iopub.status.busy": "2024-09-04T03:16:45.902745Z",
     "iopub.status.idle": "2024-09-04T03:16:45.911564Z",
     "shell.execute_reply": "2024-09-04T03:16:45.910301Z"
    },
    "jupyter": {
     "outputs_hidden": false
    },
    "papermill": {
     "duration": 0.023914,
     "end_time": "2024-09-04T03:16:45.914255",
     "exception": false,
     "start_time": "2024-09-04T03:16:45.890341",
     "status": "completed"
    },
    "tags": []
   },
   "outputs": [],
   "source": [
    "def create_oracle(quantum_circuit, qubits, target_state):\n",
    "    qubits = list(qubits)\n",
    "    binary_string = format(target_state, f\"0{len(qubits)}b\")\n",
    "    \n",
    "    for index, bit in enumerate(binary_string):\n",
    "        if bit == '0':\n",
    "            quantum_circuit.x(qubits[index])\n",
    "    \n",
    "    # Grover Diffusion Operator\n",
    "    quantum_circuit.h(qubits[-1])\n",
    "    quantum_circuit.mcx(qubits[:-1], qubits[-1])\n",
    "    quantum_circuit.h(qubits[-1])\n",
    "\n",
    "    for index, bit in enumerate(binary_string):\n",
    "        if bit == '0':\n",
    "            quantum_circuit.x(qubits[index])\n",
    "\n",
    "    return quantum_circuit"
   ]
  },
  {
   "cell_type": "markdown",
   "id": "d517464f",
   "metadata": {
    "_cell_guid": "53e8316b-1182-42cf-a410-ba9c67eceeeb",
    "_uuid": "f1450c48-6137-48dc-957e-6d82ccca428a",
    "papermill": {
     "duration": 0.011288,
     "end_time": "2024-09-04T03:16:45.936749",
     "exception": false,
     "start_time": "2024-09-04T03:16:45.925461",
     "status": "completed"
    },
    "tags": []
   },
   "source": [
    "The following function implements the Grover diffusion operator within a quantum circuit.\n",
    "\n",
    "1. Applies a Hadamard gate to all qubits.\n",
    "2. Applies the Pauli-X gate to all qubits.\n",
    "3. Applies a Hadamard gate to the last qubit.\n",
    "4. Applies a multi-controlled X gate with the last qubit as the target and the rest as controls.\n",
    "5. Applies a Hadamard gate to the last qubit.\n",
    "6. Applies the Pauli-X gate to all qubits.\n",
    "7. Applies a Hadamard gate to all qubits.\n",
    "8. Returns the modified quantum circuit."
   ]
  },
  {
   "cell_type": "code",
   "execution_count": 7,
   "id": "c9ef0c84",
   "metadata": {
    "_cell_guid": "d4ff5b40-2949-4de1-aa97-46cbf1f6dad3",
    "_uuid": "085bb42f-f592-4f19-a8e2-5aa3e8ecd009",
    "collapsed": false,
    "execution": {
     "iopub.execute_input": "2024-09-04T03:16:45.961336Z",
     "iopub.status.busy": "2024-09-04T03:16:45.960828Z",
     "iopub.status.idle": "2024-09-04T03:16:45.968529Z",
     "shell.execute_reply": "2024-09-04T03:16:45.967230Z"
    },
    "jupyter": {
     "outputs_hidden": false
    },
    "papermill": {
     "duration": 0.02285,
     "end_time": "2024-09-04T03:16:45.971077",
     "exception": false,
     "start_time": "2024-09-04T03:16:45.948227",
     "status": "completed"
    },
    "tags": []
   },
   "outputs": [],
   "source": [
    "def diffusion_operator(quantum_circuit, qubits):\n",
    "    qubits = list(qubits)\n",
    "    quantum_circuit.h(qubits)\n",
    "    quantum_circuit.x(qubits)\n",
    "    quantum_circuit.h(qubits[-1])\n",
    "    quantum_circuit.mcx(qubits[:-1], qubits[-1])\n",
    "    quantum_circuit.h(qubits[-1])\n",
    "    quantum_circuit.x(qubits)\n",
    "    quantum_circuit.h(qubits)\n",
    "    return quantum_circuit"
   ]
  },
  {
   "cell_type": "markdown",
   "id": "ac732140",
   "metadata": {
    "_cell_guid": "82b21303-3e9b-42d0-ac9a-be0afbd946c3",
    "_uuid": "7b8b1b69-3986-4571-b689-eebf930b276e",
    "papermill": {
     "duration": 0.011125,
     "end_time": "2024-09-04T03:16:45.993289",
     "exception": false,
     "start_time": "2024-09-04T03:16:45.982164",
     "status": "completed"
    },
    "tags": []
   },
   "source": [
    "# Grover's Algorithm\n",
    "\n",
    "As a reminder, Grover's algorithm is as follows:\n",
    "\n",
    "1. Assign a qubit to each possibility in the set.\n",
    "2. Initialize all qubits in a superposition of all possible states.\n",
    "3. Apply the oracle to flip the phase of the correct solution.\n",
    "4. Use a diffusion operator to amplify the amplitude of the flipped solution, making it more prominent.\n",
    "5. Repeat Steps 3 and 4 a specific number of times.\n",
    "6. Measure the final state, which will reveal the solution with high probability.\n",
    "\n",
    "The following function simply applies the key functions to execute a successful quantum search."
   ]
  },
  {
   "cell_type": "code",
   "execution_count": 8,
   "id": "b6e2e59f",
   "metadata": {
    "_cell_guid": "b3590bc4-5dba-424b-a672-2b373993e067",
    "_uuid": "66940a95-2d9a-42af-bd58-acbd8772505e",
    "collapsed": false,
    "execution": {
     "iopub.execute_input": "2024-09-04T03:16:46.017654Z",
     "iopub.status.busy": "2024-09-04T03:16:46.017187Z",
     "iopub.status.idle": "2024-09-04T03:16:46.026915Z",
     "shell.execute_reply": "2024-09-04T03:16:46.025602Z"
    },
    "jupyter": {
     "outputs_hidden": false
    },
    "papermill": {
     "duration": 0.025157,
     "end_time": "2024-09-04T03:16:46.029700",
     "exception": false,
     "start_time": "2024-09-04T03:16:46.004543",
     "status": "completed"
    },
    "tags": []
   },
   "outputs": [],
   "source": [
    "def grovers_search(filename):\n",
    "    \n",
    "    # Step 1\n",
    "    molecules = load_and_normalize_molecules(filename)\n",
    "    optimal_molecule = find_optimal_molecule(molecules)\n",
    "    target_state = binary_to_integer(optimal_molecule)\n",
    "    n_qubits = len(optimal_molecule)\n",
    "    quantum_circuit = QuantumCircuit(n_qubits)\n",
    "    \n",
    "    # Step 2\n",
    "    quantum_circuit = initialize_circuit(quantum_circuit, range(n_qubits))\n",
    "    \n",
    "    # Step 3\n",
    "    quantum_circuit = create_oracle(quantum_circuit, range(n_qubits), target_state)\n",
    "    \n",
    "    # Step 4\n",
    "    quantum_circuit = diffusion_operator(quantum_circuit, range(n_qubits))\n",
    "    \n",
    "    # Step 6\n",
    "    statevector_simulator = Aer.get_backend('statevector_simulator')\n",
    "    quantum_circuit = transpile(quantum_circuit, statevector_simulator)\n",
    "    result = statevector_simulator.run(quantum_circuit).result()\n",
    "    statevector = result.get_statevector()\n",
    "    print(f\"Optimal molecule (binary): {optimal_molecule}\")\n",
    "    print(f\"Optimal molecule (decimal): {target_state}\")\n",
    "    print(\"Statevector probabilities:\")\n",
    "    print(statevector)"
   ]
  },
  {
   "cell_type": "markdown",
   "id": "4e4cc367",
   "metadata": {
    "_cell_guid": "3eb0d517-a5b9-47c1-8b6f-cabaa51473c8",
    "_uuid": "a0787558-0926-4cdf-9ead-ec362211cec3",
    "papermill": {
     "duration": 0.010698,
     "end_time": "2024-09-04T03:16:46.051523",
     "exception": false,
     "start_time": "2024-09-04T03:16:46.040825",
     "status": "completed"
    },
    "tags": []
   },
   "source": [
    "# Output\n",
    "\n",
    "The following is the output of the Grover's algorithm. \n",
    "\n",
    "* Optimal molecule (binary): This represents the binary string of the molecule identified as having the highest binding affinity.\n",
    "* Optimal molecule (decimal): The decimal equivalent of the optimal molecule's binary string.\n",
    "* Statevector probabilities: An array of complex numbers representing the probability amplitudes of each possible state of the quantum system. The indices of the array correspond to the different states, and the values represent the probability amplitudes. The dims attribute specifies the dimensions of the statevector, which is a $2^n$-dimensional vector, where n is the number of qubits in the system."
   ]
  },
  {
   "cell_type": "code",
   "execution_count": 9,
   "id": "ec56a513",
   "metadata": {
    "_cell_guid": "a5bb1997-03ef-43bc-8674-e07b0ee205ec",
    "_uuid": "b32ee041-39c9-4127-ae31-1e70e3f37621",
    "collapsed": false,
    "execution": {
     "iopub.execute_input": "2024-09-04T03:16:46.076690Z",
     "iopub.status.busy": "2024-09-04T03:16:46.075744Z",
     "iopub.status.idle": "2024-09-04T03:16:49.667484Z",
     "shell.execute_reply": "2024-09-04T03:16:49.665939Z"
    },
    "jupyter": {
     "outputs_hidden": false
    },
    "papermill": {
     "duration": 3.608829,
     "end_time": "2024-09-04T03:16:49.671371",
     "exception": false,
     "start_time": "2024-09-04T03:16:46.062542",
     "status": "completed"
    },
    "tags": []
   },
   "outputs": [
    {
     "name": "stdout",
     "output_type": "stream",
     "text": [
      "Optimal molecule (binary): 001011111111100110001001\n",
      "Optimal molecule (decimal): 3144073\n",
      "Statevector probabilities:\n",
      "Statevector([-0.00024414-1.01655228e-18j, -0.00024414-1.04645087e-18j,\n",
      "             -0.00024414-1.04645087e-18j, ..., -0.00024414-1.67432139e-18j,\n",
      "             -0.00024414-1.67432139e-18j, -0.00024414-1.70421999e-18j],\n",
      "            dims=(2, 2, 2, 2, 2, 2, 2, 2, 2, 2, 2, 2, 2, 2, 2, 2, 2, 2, 2, 2, 2, 2, 2, 2))\n"
     ]
    }
   ],
   "source": [
    "grovers_search('/kaggle/input/protein-molecules-dataset/molecules.csv')"
   ]
  }
 ],
 "metadata": {
  "kaggle": {
   "accelerator": "none",
   "dataSources": [
    {
     "datasetId": 5615972,
     "sourceId": 9278851,
     "sourceType": "datasetVersion"
    }
   ],
   "dockerImageVersionId": 30761,
   "isGpuEnabled": false,
   "isInternetEnabled": true,
   "language": "python",
   "sourceType": "notebook"
  },
  "kernelspec": {
   "display_name": "Python 3",
   "language": "python",
   "name": "python3"
  },
  "language_info": {
   "codemirror_mode": {
    "name": "ipython",
    "version": 3
   },
   "file_extension": ".py",
   "mimetype": "text/x-python",
   "name": "python",
   "nbconvert_exporter": "python",
   "pygments_lexer": "ipython3",
   "version": "3.10.14"
  },
  "papermill": {
   "default_parameters": {},
   "duration": 48.664889,
   "end_time": "2024-09-04T03:16:50.405993",
   "environment_variables": {},
   "exception": null,
   "input_path": "__notebook__.ipynb",
   "output_path": "__notebook__.ipynb",
   "parameters": {},
   "start_time": "2024-09-04T03:16:01.741104",
   "version": "2.6.0"
  }
 },
 "nbformat": 4,
 "nbformat_minor": 5
}
